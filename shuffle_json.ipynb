{
  "nbformat": 4,
  "nbformat_minor": 0,
  "metadata": {
    "colab": {
      "provenance": []
    },
    "kernelspec": {
      "name": "python3",
      "display_name": "Python 3"
    },
    "language_info": {
      "name": "python"
    }
  },
  "cells": [
    {
      "cell_type": "code",
      "execution_count": null,
      "metadata": {
        "id": "IEMAdNrIbVqv"
      },
      "outputs": [],
      "source": [
        "import json\n",
        "import random\n",
        "data = []\n",
        "\n",
        "# Specify the correct encoding when opening the file (e.g., UTF-16)\n",
        "with open('data.json', 'r') as file:\n",
        "    for line in file:\n",
        "        data.append(json.loads(line))\n",
        "\n",
        "# Shuffle the list of Python objects\n",
        "random.shuffle(data)\n",
        "\n",
        "# Write the shuffled list of Python objects to a new file\n",
        "with open('shuffled_data.json', 'w') as f:\n",
        "    for item in data:\n",
        "        f.write(json.dumps(item, ensure_ascii=False) + '\\n')"
      ]
    },
    {
      "cell_type": "code",
      "source": [
        "import json\n",
        "\n",
        "file_path = 'data.json'\n",
        "\n",
        "# Initialize counters\n",
        "true_count = 0\n",
        "false_count = 0\n",
        "\n",
        "with open(file_path, 'r') as file:\n",
        "    for line in file:\n",
        "        data = json.loads(line)\n",
        "        label = data.get('labels')\n",
        "        if label is True:\n",
        "            true_count += 1\n",
        "        elif label is False:\n",
        "            false_count += 1\n",
        "\n",
        "print(\"Number of 'true' labels:\", true_count)\n",
        "print(\"Number of 'false' labels:\", false_count)"
      ],
      "metadata": {
        "colab": {
          "base_uri": "https://localhost:8080/"
        },
        "id": "ngYUkOkVRhH_",
        "outputId": "0fdf2a18-07a6-4a05-f9c3-4907615a8cd5"
      },
      "execution_count": null,
      "outputs": [
        {
          "output_type": "stream",
          "name": "stdout",
          "text": [
            "Number of 'true' labels: 5000\n",
            "Number of 'false' labels: 10000\n"
          ]
        }
      ]
    }
  ]
}